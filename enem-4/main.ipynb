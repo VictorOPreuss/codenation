{
 "cells": [
  {
   "cell_type": "code",
   "execution_count": 1,
   "metadata": {
    "ExecuteTime": {
     "end_time": "2020-06-08T04:20:45.748003Z",
     "start_time": "2020-06-08T04:20:44.669199Z"
    }
   },
   "outputs": [],
   "source": [
    "import pandas as pd\n",
    "import numpy as np\n",
    "import seaborn as sns\n",
    "import matplotlib.pyplot as plt\n",
    "from sklearn.decomposition import PCA\n",
    "from imblearn.over_sampling import SMOTE\n",
    "from sklearn.linear_model import LogisticRegression\n",
    "from sklearn.model_selection import train_test_split\n",
    "from sklearn.metrics import confusion_matrix, f1_score\n",
    "from sklearn.ensemble import RandomForestClassifier, VotingClassifier\n",
    "from sklearn.neighbors import KNeighborsClassifier\n",
    "from sklearn.naive_bayes import GaussianNB"
   ]
  },
  {
   "cell_type": "code",
   "execution_count": 2,
   "metadata": {
    "ExecuteTime": {
     "end_time": "2020-06-08T04:20:45.755246Z",
     "start_time": "2020-06-08T04:20:45.751384Z"
    }
   },
   "outputs": [],
   "source": [
    "pd.set_option('display.max_rows', 20)\n",
    "pd.set_option('display.max_columns', None)"
   ]
  },
  {
   "cell_type": "code",
   "execution_count": 3,
   "metadata": {
    "ExecuteTime": {
     "end_time": "2020-06-08T04:20:46.238555Z",
     "start_time": "2020-06-08T04:20:45.758174Z"
    },
    "scrolled": true
   },
   "outputs": [],
   "source": [
    "df = pd.read_csv('train.csv', index_col='NU_INSCRICAO')\n",
    "test_data = pd.read_csv('test.csv', index_col='NU_INSCRICAO')\n",
    "target = 'IN_TREINEIRO'"
   ]
  },
  {
   "cell_type": "markdown",
   "metadata": {},
   "source": [
    "## Exploração dos dados"
   ]
  },
  {
   "cell_type": "code",
   "execution_count": 4,
   "metadata": {
    "ExecuteTime": {
     "end_time": "2020-06-08T04:20:46.292498Z",
     "start_time": "2020-06-08T04:20:46.241024Z"
    }
   },
   "outputs": [
    {
     "data": {
      "text/html": [
       "<div>\n",
       "<style scoped>\n",
       "    .dataframe tbody tr th:only-of-type {\n",
       "        vertical-align: middle;\n",
       "    }\n",
       "\n",
       "    .dataframe tbody tr th {\n",
       "        vertical-align: top;\n",
       "    }\n",
       "\n",
       "    .dataframe thead th {\n",
       "        text-align: right;\n",
       "    }\n",
       "</style>\n",
       "<table border=\"1\" class=\"dataframe\">\n",
       "  <thead>\n",
       "    <tr style=\"text-align: right;\">\n",
       "      <th></th>\n",
       "      <th>CO_UF_RESIDENCIA</th>\n",
       "      <th>SG_UF_RESIDENCIA</th>\n",
       "      <th>NU_IDADE</th>\n",
       "      <th>TP_SEXO</th>\n",
       "      <th>TP_COR_RACA</th>\n",
       "      <th>TP_NACIONALIDADE</th>\n",
       "      <th>TP_ST_CONCLUSAO</th>\n",
       "      <th>TP_ANO_CONCLUIU</th>\n",
       "      <th>TP_ESCOLA</th>\n",
       "      <th>TP_ENSINO</th>\n",
       "      <th>TP_DEPENDENCIA_ADM_ESC</th>\n",
       "      <th>IN_BAIXA_VISAO</th>\n",
       "      <th>IN_CEGUEIRA</th>\n",
       "      <th>IN_SURDEZ</th>\n",
       "      <th>IN_DISLEXIA</th>\n",
       "      <th>IN_DISCALCULIA</th>\n",
       "      <th>IN_SABATISTA</th>\n",
       "      <th>IN_GESTANTE</th>\n",
       "      <th>IN_IDOSO</th>\n",
       "      <th>TP_PRESENCA_CN</th>\n",
       "      <th>TP_PRESENCA_CH</th>\n",
       "      <th>TP_PRESENCA_LC</th>\n",
       "      <th>TP_PRESENCA_MT</th>\n",
       "      <th>NU_NOTA_CN</th>\n",
       "      <th>NU_NOTA_CH</th>\n",
       "      <th>NU_NOTA_LC</th>\n",
       "      <th>TP_LINGUA</th>\n",
       "      <th>TP_STATUS_REDACAO</th>\n",
       "      <th>NU_NOTA_COMP1</th>\n",
       "      <th>NU_NOTA_COMP2</th>\n",
       "      <th>NU_NOTA_COMP3</th>\n",
       "      <th>NU_NOTA_COMP4</th>\n",
       "      <th>NU_NOTA_COMP5</th>\n",
       "      <th>NU_NOTA_REDACAO</th>\n",
       "      <th>Q001</th>\n",
       "      <th>Q002</th>\n",
       "      <th>Q006</th>\n",
       "      <th>Q024</th>\n",
       "      <th>Q025</th>\n",
       "      <th>Q026</th>\n",
       "      <th>Q027</th>\n",
       "      <th>Q047</th>\n",
       "      <th>IN_TREINEIRO</th>\n",
       "    </tr>\n",
       "    <tr>\n",
       "      <th>NU_INSCRICAO</th>\n",
       "      <th></th>\n",
       "      <th></th>\n",
       "      <th></th>\n",
       "      <th></th>\n",
       "      <th></th>\n",
       "      <th></th>\n",
       "      <th></th>\n",
       "      <th></th>\n",
       "      <th></th>\n",
       "      <th></th>\n",
       "      <th></th>\n",
       "      <th></th>\n",
       "      <th></th>\n",
       "      <th></th>\n",
       "      <th></th>\n",
       "      <th></th>\n",
       "      <th></th>\n",
       "      <th></th>\n",
       "      <th></th>\n",
       "      <th></th>\n",
       "      <th></th>\n",
       "      <th></th>\n",
       "      <th></th>\n",
       "      <th></th>\n",
       "      <th></th>\n",
       "      <th></th>\n",
       "      <th></th>\n",
       "      <th></th>\n",
       "      <th></th>\n",
       "      <th></th>\n",
       "      <th></th>\n",
       "      <th></th>\n",
       "      <th></th>\n",
       "      <th></th>\n",
       "      <th></th>\n",
       "      <th></th>\n",
       "      <th></th>\n",
       "      <th></th>\n",
       "      <th></th>\n",
       "      <th></th>\n",
       "      <th></th>\n",
       "      <th></th>\n",
       "      <th></th>\n",
       "    </tr>\n",
       "  </thead>\n",
       "  <tbody>\n",
       "    <tr>\n",
       "      <th>ed50e8aaa58e7a806c337585efee9ca41f1eb1ad</th>\n",
       "      <td>43</td>\n",
       "      <td>RS</td>\n",
       "      <td>24</td>\n",
       "      <td>M</td>\n",
       "      <td>1</td>\n",
       "      <td>1</td>\n",
       "      <td>1</td>\n",
       "      <td>4</td>\n",
       "      <td>1</td>\n",
       "      <td>NaN</td>\n",
       "      <td>NaN</td>\n",
       "      <td>0</td>\n",
       "      <td>0</td>\n",
       "      <td>0</td>\n",
       "      <td>0</td>\n",
       "      <td>0</td>\n",
       "      <td>0</td>\n",
       "      <td>0</td>\n",
       "      <td>0</td>\n",
       "      <td>1</td>\n",
       "      <td>1</td>\n",
       "      <td>1</td>\n",
       "      <td>1</td>\n",
       "      <td>436.3</td>\n",
       "      <td>495.4</td>\n",
       "      <td>581.2</td>\n",
       "      <td>1</td>\n",
       "      <td>1.0</td>\n",
       "      <td>120.0</td>\n",
       "      <td>120.0</td>\n",
       "      <td>120.0</td>\n",
       "      <td>80.0</td>\n",
       "      <td>80.0</td>\n",
       "      <td>520.0</td>\n",
       "      <td>D</td>\n",
       "      <td>D</td>\n",
       "      <td>C</td>\n",
       "      <td>A</td>\n",
       "      <td>A</td>\n",
       "      <td>C</td>\n",
       "      <td>H</td>\n",
       "      <td>A</td>\n",
       "      <td>0</td>\n",
       "    </tr>\n",
       "    <tr>\n",
       "      <th>2c3acac4b33ec2b195d77e7c04a2d75727fad723</th>\n",
       "      <td>23</td>\n",
       "      <td>CE</td>\n",
       "      <td>17</td>\n",
       "      <td>F</td>\n",
       "      <td>3</td>\n",
       "      <td>1</td>\n",
       "      <td>2</td>\n",
       "      <td>0</td>\n",
       "      <td>2</td>\n",
       "      <td>1.0</td>\n",
       "      <td>2.0</td>\n",
       "      <td>0</td>\n",
       "      <td>0</td>\n",
       "      <td>0</td>\n",
       "      <td>0</td>\n",
       "      <td>0</td>\n",
       "      <td>0</td>\n",
       "      <td>0</td>\n",
       "      <td>0</td>\n",
       "      <td>1</td>\n",
       "      <td>1</td>\n",
       "      <td>1</td>\n",
       "      <td>1</td>\n",
       "      <td>474.5</td>\n",
       "      <td>544.1</td>\n",
       "      <td>599.0</td>\n",
       "      <td>1</td>\n",
       "      <td>1.0</td>\n",
       "      <td>140.0</td>\n",
       "      <td>120.0</td>\n",
       "      <td>120.0</td>\n",
       "      <td>120.0</td>\n",
       "      <td>80.0</td>\n",
       "      <td>580.0</td>\n",
       "      <td>A</td>\n",
       "      <td>A</td>\n",
       "      <td>B</td>\n",
       "      <td>A</td>\n",
       "      <td>A</td>\n",
       "      <td>A</td>\n",
       "      <td>NaN</td>\n",
       "      <td>A</td>\n",
       "      <td>0</td>\n",
       "    </tr>\n",
       "    <tr>\n",
       "      <th>f4545f8ccb9ff5c8aad7d32951b3f251a26e6568</th>\n",
       "      <td>23</td>\n",
       "      <td>CE</td>\n",
       "      <td>21</td>\n",
       "      <td>F</td>\n",
       "      <td>3</td>\n",
       "      <td>1</td>\n",
       "      <td>3</td>\n",
       "      <td>0</td>\n",
       "      <td>1</td>\n",
       "      <td>NaN</td>\n",
       "      <td>NaN</td>\n",
       "      <td>0</td>\n",
       "      <td>0</td>\n",
       "      <td>0</td>\n",
       "      <td>0</td>\n",
       "      <td>0</td>\n",
       "      <td>0</td>\n",
       "      <td>0</td>\n",
       "      <td>0</td>\n",
       "      <td>0</td>\n",
       "      <td>0</td>\n",
       "      <td>0</td>\n",
       "      <td>0</td>\n",
       "      <td>NaN</td>\n",
       "      <td>NaN</td>\n",
       "      <td>NaN</td>\n",
       "      <td>1</td>\n",
       "      <td>NaN</td>\n",
       "      <td>NaN</td>\n",
       "      <td>NaN</td>\n",
       "      <td>NaN</td>\n",
       "      <td>NaN</td>\n",
       "      <td>NaN</td>\n",
       "      <td>NaN</td>\n",
       "      <td>D</td>\n",
       "      <td>D</td>\n",
       "      <td>C</td>\n",
       "      <td>A</td>\n",
       "      <td>A</td>\n",
       "      <td>A</td>\n",
       "      <td>NaN</td>\n",
       "      <td>A</td>\n",
       "      <td>0</td>\n",
       "    </tr>\n",
       "    <tr>\n",
       "      <th>3d6ec248fef899c414e77f82d5c6d2bffbeaf7fe</th>\n",
       "      <td>33</td>\n",
       "      <td>RJ</td>\n",
       "      <td>25</td>\n",
       "      <td>F</td>\n",
       "      <td>0</td>\n",
       "      <td>1</td>\n",
       "      <td>1</td>\n",
       "      <td>9</td>\n",
       "      <td>1</td>\n",
       "      <td>NaN</td>\n",
       "      <td>NaN</td>\n",
       "      <td>0</td>\n",
       "      <td>0</td>\n",
       "      <td>0</td>\n",
       "      <td>0</td>\n",
       "      <td>0</td>\n",
       "      <td>0</td>\n",
       "      <td>0</td>\n",
       "      <td>0</td>\n",
       "      <td>0</td>\n",
       "      <td>0</td>\n",
       "      <td>0</td>\n",
       "      <td>0</td>\n",
       "      <td>NaN</td>\n",
       "      <td>NaN</td>\n",
       "      <td>NaN</td>\n",
       "      <td>0</td>\n",
       "      <td>NaN</td>\n",
       "      <td>NaN</td>\n",
       "      <td>NaN</td>\n",
       "      <td>NaN</td>\n",
       "      <td>NaN</td>\n",
       "      <td>NaN</td>\n",
       "      <td>NaN</td>\n",
       "      <td>H</td>\n",
       "      <td>E</td>\n",
       "      <td>E</td>\n",
       "      <td>C</td>\n",
       "      <td>B</td>\n",
       "      <td>C</td>\n",
       "      <td>F</td>\n",
       "      <td>D</td>\n",
       "      <td>0</td>\n",
       "    </tr>\n",
       "    <tr>\n",
       "      <th>bf896ac8d3ecadd6dba1dfbf50110afcbf5d3268</th>\n",
       "      <td>13</td>\n",
       "      <td>AM</td>\n",
       "      <td>28</td>\n",
       "      <td>M</td>\n",
       "      <td>2</td>\n",
       "      <td>1</td>\n",
       "      <td>1</td>\n",
       "      <td>4</td>\n",
       "      <td>1</td>\n",
       "      <td>NaN</td>\n",
       "      <td>NaN</td>\n",
       "      <td>0</td>\n",
       "      <td>0</td>\n",
       "      <td>0</td>\n",
       "      <td>0</td>\n",
       "      <td>0</td>\n",
       "      <td>0</td>\n",
       "      <td>0</td>\n",
       "      <td>0</td>\n",
       "      <td>0</td>\n",
       "      <td>0</td>\n",
       "      <td>0</td>\n",
       "      <td>0</td>\n",
       "      <td>NaN</td>\n",
       "      <td>NaN</td>\n",
       "      <td>NaN</td>\n",
       "      <td>1</td>\n",
       "      <td>NaN</td>\n",
       "      <td>NaN</td>\n",
       "      <td>NaN</td>\n",
       "      <td>NaN</td>\n",
       "      <td>NaN</td>\n",
       "      <td>NaN</td>\n",
       "      <td>NaN</td>\n",
       "      <td>E</td>\n",
       "      <td>D</td>\n",
       "      <td>C</td>\n",
       "      <td>A</td>\n",
       "      <td>A</td>\n",
       "      <td>B</td>\n",
       "      <td>F</td>\n",
       "      <td>A</td>\n",
       "      <td>0</td>\n",
       "    </tr>\n",
       "  </tbody>\n",
       "</table>\n",
       "</div>"
      ],
      "text/plain": [
       "                                          CO_UF_RESIDENCIA SG_UF_RESIDENCIA  \\\n",
       "NU_INSCRICAO                                                                  \n",
       "ed50e8aaa58e7a806c337585efee9ca41f1eb1ad                43               RS   \n",
       "2c3acac4b33ec2b195d77e7c04a2d75727fad723                23               CE   \n",
       "f4545f8ccb9ff5c8aad7d32951b3f251a26e6568                23               CE   \n",
       "3d6ec248fef899c414e77f82d5c6d2bffbeaf7fe                33               RJ   \n",
       "bf896ac8d3ecadd6dba1dfbf50110afcbf5d3268                13               AM   \n",
       "\n",
       "                                          NU_IDADE TP_SEXO  TP_COR_RACA  \\\n",
       "NU_INSCRICAO                                                              \n",
       "ed50e8aaa58e7a806c337585efee9ca41f1eb1ad        24       M            1   \n",
       "2c3acac4b33ec2b195d77e7c04a2d75727fad723        17       F            3   \n",
       "f4545f8ccb9ff5c8aad7d32951b3f251a26e6568        21       F            3   \n",
       "3d6ec248fef899c414e77f82d5c6d2bffbeaf7fe        25       F            0   \n",
       "bf896ac8d3ecadd6dba1dfbf50110afcbf5d3268        28       M            2   \n",
       "\n",
       "                                          TP_NACIONALIDADE  TP_ST_CONCLUSAO  \\\n",
       "NU_INSCRICAO                                                                  \n",
       "ed50e8aaa58e7a806c337585efee9ca41f1eb1ad                 1                1   \n",
       "2c3acac4b33ec2b195d77e7c04a2d75727fad723                 1                2   \n",
       "f4545f8ccb9ff5c8aad7d32951b3f251a26e6568                 1                3   \n",
       "3d6ec248fef899c414e77f82d5c6d2bffbeaf7fe                 1                1   \n",
       "bf896ac8d3ecadd6dba1dfbf50110afcbf5d3268                 1                1   \n",
       "\n",
       "                                          TP_ANO_CONCLUIU  TP_ESCOLA  \\\n",
       "NU_INSCRICAO                                                           \n",
       "ed50e8aaa58e7a806c337585efee9ca41f1eb1ad                4          1   \n",
       "2c3acac4b33ec2b195d77e7c04a2d75727fad723                0          2   \n",
       "f4545f8ccb9ff5c8aad7d32951b3f251a26e6568                0          1   \n",
       "3d6ec248fef899c414e77f82d5c6d2bffbeaf7fe                9          1   \n",
       "bf896ac8d3ecadd6dba1dfbf50110afcbf5d3268                4          1   \n",
       "\n",
       "                                          TP_ENSINO  TP_DEPENDENCIA_ADM_ESC  \\\n",
       "NU_INSCRICAO                                                                  \n",
       "ed50e8aaa58e7a806c337585efee9ca41f1eb1ad        NaN                     NaN   \n",
       "2c3acac4b33ec2b195d77e7c04a2d75727fad723        1.0                     2.0   \n",
       "f4545f8ccb9ff5c8aad7d32951b3f251a26e6568        NaN                     NaN   \n",
       "3d6ec248fef899c414e77f82d5c6d2bffbeaf7fe        NaN                     NaN   \n",
       "bf896ac8d3ecadd6dba1dfbf50110afcbf5d3268        NaN                     NaN   \n",
       "\n",
       "                                          IN_BAIXA_VISAO  IN_CEGUEIRA  \\\n",
       "NU_INSCRICAO                                                            \n",
       "ed50e8aaa58e7a806c337585efee9ca41f1eb1ad               0            0   \n",
       "2c3acac4b33ec2b195d77e7c04a2d75727fad723               0            0   \n",
       "f4545f8ccb9ff5c8aad7d32951b3f251a26e6568               0            0   \n",
       "3d6ec248fef899c414e77f82d5c6d2bffbeaf7fe               0            0   \n",
       "bf896ac8d3ecadd6dba1dfbf50110afcbf5d3268               0            0   \n",
       "\n",
       "                                          IN_SURDEZ  IN_DISLEXIA  \\\n",
       "NU_INSCRICAO                                                       \n",
       "ed50e8aaa58e7a806c337585efee9ca41f1eb1ad          0            0   \n",
       "2c3acac4b33ec2b195d77e7c04a2d75727fad723          0            0   \n",
       "f4545f8ccb9ff5c8aad7d32951b3f251a26e6568          0            0   \n",
       "3d6ec248fef899c414e77f82d5c6d2bffbeaf7fe          0            0   \n",
       "bf896ac8d3ecadd6dba1dfbf50110afcbf5d3268          0            0   \n",
       "\n",
       "                                          IN_DISCALCULIA  IN_SABATISTA  \\\n",
       "NU_INSCRICAO                                                             \n",
       "ed50e8aaa58e7a806c337585efee9ca41f1eb1ad               0             0   \n",
       "2c3acac4b33ec2b195d77e7c04a2d75727fad723               0             0   \n",
       "f4545f8ccb9ff5c8aad7d32951b3f251a26e6568               0             0   \n",
       "3d6ec248fef899c414e77f82d5c6d2bffbeaf7fe               0             0   \n",
       "bf896ac8d3ecadd6dba1dfbf50110afcbf5d3268               0             0   \n",
       "\n",
       "                                          IN_GESTANTE  IN_IDOSO  \\\n",
       "NU_INSCRICAO                                                      \n",
       "ed50e8aaa58e7a806c337585efee9ca41f1eb1ad            0         0   \n",
       "2c3acac4b33ec2b195d77e7c04a2d75727fad723            0         0   \n",
       "f4545f8ccb9ff5c8aad7d32951b3f251a26e6568            0         0   \n",
       "3d6ec248fef899c414e77f82d5c6d2bffbeaf7fe            0         0   \n",
       "bf896ac8d3ecadd6dba1dfbf50110afcbf5d3268            0         0   \n",
       "\n",
       "                                          TP_PRESENCA_CN  TP_PRESENCA_CH  \\\n",
       "NU_INSCRICAO                                                               \n",
       "ed50e8aaa58e7a806c337585efee9ca41f1eb1ad               1               1   \n",
       "2c3acac4b33ec2b195d77e7c04a2d75727fad723               1               1   \n",
       "f4545f8ccb9ff5c8aad7d32951b3f251a26e6568               0               0   \n",
       "3d6ec248fef899c414e77f82d5c6d2bffbeaf7fe               0               0   \n",
       "bf896ac8d3ecadd6dba1dfbf50110afcbf5d3268               0               0   \n",
       "\n",
       "                                          TP_PRESENCA_LC  TP_PRESENCA_MT  \\\n",
       "NU_INSCRICAO                                                               \n",
       "ed50e8aaa58e7a806c337585efee9ca41f1eb1ad               1               1   \n",
       "2c3acac4b33ec2b195d77e7c04a2d75727fad723               1               1   \n",
       "f4545f8ccb9ff5c8aad7d32951b3f251a26e6568               0               0   \n",
       "3d6ec248fef899c414e77f82d5c6d2bffbeaf7fe               0               0   \n",
       "bf896ac8d3ecadd6dba1dfbf50110afcbf5d3268               0               0   \n",
       "\n",
       "                                          NU_NOTA_CN  NU_NOTA_CH  NU_NOTA_LC  \\\n",
       "NU_INSCRICAO                                                                   \n",
       "ed50e8aaa58e7a806c337585efee9ca41f1eb1ad       436.3       495.4       581.2   \n",
       "2c3acac4b33ec2b195d77e7c04a2d75727fad723       474.5       544.1       599.0   \n",
       "f4545f8ccb9ff5c8aad7d32951b3f251a26e6568         NaN         NaN         NaN   \n",
       "3d6ec248fef899c414e77f82d5c6d2bffbeaf7fe         NaN         NaN         NaN   \n",
       "bf896ac8d3ecadd6dba1dfbf50110afcbf5d3268         NaN         NaN         NaN   \n",
       "\n",
       "                                          TP_LINGUA  TP_STATUS_REDACAO  \\\n",
       "NU_INSCRICAO                                                             \n",
       "ed50e8aaa58e7a806c337585efee9ca41f1eb1ad          1                1.0   \n",
       "2c3acac4b33ec2b195d77e7c04a2d75727fad723          1                1.0   \n",
       "f4545f8ccb9ff5c8aad7d32951b3f251a26e6568          1                NaN   \n",
       "3d6ec248fef899c414e77f82d5c6d2bffbeaf7fe          0                NaN   \n",
       "bf896ac8d3ecadd6dba1dfbf50110afcbf5d3268          1                NaN   \n",
       "\n",
       "                                          NU_NOTA_COMP1  NU_NOTA_COMP2  \\\n",
       "NU_INSCRICAO                                                             \n",
       "ed50e8aaa58e7a806c337585efee9ca41f1eb1ad          120.0          120.0   \n",
       "2c3acac4b33ec2b195d77e7c04a2d75727fad723          140.0          120.0   \n",
       "f4545f8ccb9ff5c8aad7d32951b3f251a26e6568            NaN            NaN   \n",
       "3d6ec248fef899c414e77f82d5c6d2bffbeaf7fe            NaN            NaN   \n",
       "bf896ac8d3ecadd6dba1dfbf50110afcbf5d3268            NaN            NaN   \n",
       "\n",
       "                                          NU_NOTA_COMP3  NU_NOTA_COMP4  \\\n",
       "NU_INSCRICAO                                                             \n",
       "ed50e8aaa58e7a806c337585efee9ca41f1eb1ad          120.0           80.0   \n",
       "2c3acac4b33ec2b195d77e7c04a2d75727fad723          120.0          120.0   \n",
       "f4545f8ccb9ff5c8aad7d32951b3f251a26e6568            NaN            NaN   \n",
       "3d6ec248fef899c414e77f82d5c6d2bffbeaf7fe            NaN            NaN   \n",
       "bf896ac8d3ecadd6dba1dfbf50110afcbf5d3268            NaN            NaN   \n",
       "\n",
       "                                          NU_NOTA_COMP5  NU_NOTA_REDACAO Q001  \\\n",
       "NU_INSCRICAO                                                                    \n",
       "ed50e8aaa58e7a806c337585efee9ca41f1eb1ad           80.0            520.0    D   \n",
       "2c3acac4b33ec2b195d77e7c04a2d75727fad723           80.0            580.0    A   \n",
       "f4545f8ccb9ff5c8aad7d32951b3f251a26e6568            NaN              NaN    D   \n",
       "3d6ec248fef899c414e77f82d5c6d2bffbeaf7fe            NaN              NaN    H   \n",
       "bf896ac8d3ecadd6dba1dfbf50110afcbf5d3268            NaN              NaN    E   \n",
       "\n",
       "                                         Q002 Q006 Q024 Q025 Q026 Q027 Q047  \\\n",
       "NU_INSCRICAO                                                                  \n",
       "ed50e8aaa58e7a806c337585efee9ca41f1eb1ad    D    C    A    A    C    H    A   \n",
       "2c3acac4b33ec2b195d77e7c04a2d75727fad723    A    B    A    A    A  NaN    A   \n",
       "f4545f8ccb9ff5c8aad7d32951b3f251a26e6568    D    C    A    A    A  NaN    A   \n",
       "3d6ec248fef899c414e77f82d5c6d2bffbeaf7fe    E    E    C    B    C    F    D   \n",
       "bf896ac8d3ecadd6dba1dfbf50110afcbf5d3268    D    C    A    A    B    F    A   \n",
       "\n",
       "                                          IN_TREINEIRO  \n",
       "NU_INSCRICAO                                            \n",
       "ed50e8aaa58e7a806c337585efee9ca41f1eb1ad             0  \n",
       "2c3acac4b33ec2b195d77e7c04a2d75727fad723             0  \n",
       "f4545f8ccb9ff5c8aad7d32951b3f251a26e6568             0  \n",
       "3d6ec248fef899c414e77f82d5c6d2bffbeaf7fe             0  \n",
       "bf896ac8d3ecadd6dba1dfbf50110afcbf5d3268             0  "
      ]
     },
     "execution_count": 4,
     "metadata": {},
     "output_type": "execute_result"
    }
   ],
   "source": [
    "df = df[test_data.columns.to_list() + [target]]\n",
    "df.head()"
   ]
  },
  {
   "cell_type": "code",
   "execution_count": 5,
   "metadata": {
    "ExecuteTime": {
     "end_time": "2020-06-08T04:20:46.469179Z",
     "start_time": "2020-06-08T04:20:46.294450Z"
    }
   },
   "outputs": [
    {
     "name": "stdout",
     "output_type": "stream",
     "text": [
      "<class 'pandas.core.frame.DataFrame'>\n",
      "Index: 13730 entries, ed50e8aaa58e7a806c337585efee9ca41f1eb1ad to 0af8939c470a600b30bdaa80375ee0db848b0e35\n",
      "Data columns (total 43 columns):\n",
      " #   Column                  Non-Null Count  Dtype  \n",
      "---  ------                  --------------  -----  \n",
      " 0   CO_UF_RESIDENCIA        13730 non-null  int64  \n",
      " 1   SG_UF_RESIDENCIA        13730 non-null  object \n",
      " 2   NU_IDADE                13730 non-null  int64  \n",
      " 3   TP_SEXO                 13730 non-null  object \n",
      " 4   TP_COR_RACA             13730 non-null  int64  \n",
      " 5   TP_NACIONALIDADE        13730 non-null  int64  \n",
      " 6   TP_ST_CONCLUSAO         13730 non-null  int64  \n",
      " 7   TP_ANO_CONCLUIU         13730 non-null  int64  \n",
      " 8   TP_ESCOLA               13730 non-null  int64  \n",
      " 9   TP_ENSINO               4282 non-null   float64\n",
      " 10  TP_DEPENDENCIA_ADM_ESC  4282 non-null   float64\n",
      " 11  IN_BAIXA_VISAO          13730 non-null  int64  \n",
      " 12  IN_CEGUEIRA             13730 non-null  int64  \n",
      " 13  IN_SURDEZ               13730 non-null  int64  \n",
      " 14  IN_DISLEXIA             13730 non-null  int64  \n",
      " 15  IN_DISCALCULIA          13730 non-null  int64  \n",
      " 16  IN_SABATISTA            13730 non-null  int64  \n",
      " 17  IN_GESTANTE             13730 non-null  int64  \n",
      " 18  IN_IDOSO                13730 non-null  int64  \n",
      " 19  TP_PRESENCA_CN          13730 non-null  int64  \n",
      " 20  TP_PRESENCA_CH          13730 non-null  int64  \n",
      " 21  TP_PRESENCA_LC          13730 non-null  int64  \n",
      " 22  TP_PRESENCA_MT          13730 non-null  int64  \n",
      " 23  NU_NOTA_CN              10341 non-null  float64\n",
      " 24  NU_NOTA_CH              10341 non-null  float64\n",
      " 25  NU_NOTA_LC              10133 non-null  float64\n",
      " 26  TP_LINGUA               13730 non-null  int64  \n",
      " 27  TP_STATUS_REDACAO       10133 non-null  float64\n",
      " 28  NU_NOTA_COMP1           10133 non-null  float64\n",
      " 29  NU_NOTA_COMP2           10133 non-null  float64\n",
      " 30  NU_NOTA_COMP3           10133 non-null  float64\n",
      " 31  NU_NOTA_COMP4           10133 non-null  float64\n",
      " 32  NU_NOTA_COMP5           10133 non-null  float64\n",
      " 33  NU_NOTA_REDACAO         10133 non-null  float64\n",
      " 34  Q001                    13730 non-null  object \n",
      " 35  Q002                    13730 non-null  object \n",
      " 36  Q006                    13730 non-null  object \n",
      " 37  Q024                    13730 non-null  object \n",
      " 38  Q025                    13730 non-null  object \n",
      " 39  Q026                    13730 non-null  object \n",
      " 40  Q027                    6357 non-null   object \n",
      " 41  Q047                    13730 non-null  object \n",
      " 42  IN_TREINEIRO            13730 non-null  int64  \n",
      "dtypes: float64(12), int64(21), object(10)\n",
      "memory usage: 4.6+ MB\n"
     ]
    }
   ],
   "source": [
    "df.info()"
   ]
  },
  {
   "cell_type": "code",
   "execution_count": 6,
   "metadata": {
    "ExecuteTime": {
     "end_time": "2020-06-08T04:20:46.631596Z",
     "start_time": "2020-06-08T04:20:46.471313Z"
    },
    "scrolled": true
   },
   "outputs": [
    {
     "data": {
      "text/plain": [
       "TP_ST_CONCLUSAO           0.533983\n",
       "NU_IDADE                  0.295091\n",
       "TP_ANO_CONCLUIU           0.257710\n",
       "TP_ESCOLA                 0.244562\n",
       "TP_PRESENCA_CH            0.094692\n",
       "                            ...   \n",
       "IN_DISCALCULIA            0.003297\n",
       "IN_DISLEXIA               0.003297\n",
       "TP_ENSINO                      NaN\n",
       "TP_DEPENDENCIA_ADM_ESC         NaN\n",
       "IN_CEGUEIRA                    NaN\n",
       "Name: IN_TREINEIRO, Length: 32, dtype: float64"
      ]
     },
     "execution_count": 6,
     "metadata": {},
     "output_type": "execute_result"
    }
   ],
   "source": [
    "np.abs(df.corr()['IN_TREINEIRO']).sort_values(ascending=False)[1:]"
   ]
  },
  {
   "attachments": {},
   "cell_type": "markdown",
   "metadata": {},
   "source": [
    "Analisando os significados das variáveis com maior correlação, podemos ver:\n",
    "![microdados](microdados.png)\n",
    "\n",
    "Pelo `TP_ST_CONCLUSAO`, podemos inferir em quais candidatos podem estar aptos ou não a prestarem o ENEM \"para valer\". Incluí os casos em que não concluíram o Ensino Médio e não estão cursando pois podem haver os que se formaram no EJA."
   ]
  },
  {
   "cell_type": "code",
   "execution_count": 7,
   "metadata": {
    "ExecuteTime": {
     "end_time": "2020-06-08T04:20:46.648558Z",
     "start_time": "2020-06-08T04:20:46.635878Z"
    }
   },
   "outputs": [
    {
     "data": {
      "text/plain": [
       "NU_INSCRICAO\n",
       "ed50e8aaa58e7a806c337585efee9ca41f1eb1ad     True\n",
       "2c3acac4b33ec2b195d77e7c04a2d75727fad723     True\n",
       "f4545f8ccb9ff5c8aad7d32951b3f251a26e6568    False\n",
       "3d6ec248fef899c414e77f82d5c6d2bffbeaf7fe     True\n",
       "bf896ac8d3ecadd6dba1dfbf50110afcbf5d3268     True\n",
       "Name: APTO, dtype: bool"
      ]
     },
     "execution_count": 7,
     "metadata": {},
     "output_type": "execute_result"
    }
   ],
   "source": [
    "df['APTO'] = (df['TP_ST_CONCLUSAO'] <= 2) | (df['TP_ST_CONCLUSAO'] == 4)\n",
    "df['APTO'].head()"
   ]
  },
  {
   "cell_type": "markdown",
   "metadata": {},
   "source": [
    "Também podemos resumir `TP_ANO_CONCLUIU` entre concluiu ou não o EM."
   ]
  },
  {
   "cell_type": "code",
   "execution_count": 8,
   "metadata": {
    "ExecuteTime": {
     "end_time": "2020-06-08T04:20:46.728491Z",
     "start_time": "2020-06-08T04:20:46.651767Z"
    }
   },
   "outputs": [],
   "source": [
    "df['CONCLUIU'] = df['TP_ANO_CONCLUIU'] > 0"
   ]
  },
  {
   "cell_type": "markdown",
   "metadata": {},
   "source": [
    "Também é interessante analisar a influência da idade."
   ]
  },
  {
   "cell_type": "code",
   "execution_count": 9,
   "metadata": {
    "ExecuteTime": {
     "end_time": "2020-06-08T04:20:46.826370Z",
     "start_time": "2020-06-08T04:20:46.731037Z"
    }
   },
   "outputs": [
    {
     "data": {
      "text/plain": [
       "count    13730.000000\n",
       "mean        21.593809\n",
       "std          7.043654\n",
       "min         13.000000\n",
       "25%         17.000000\n",
       "50%         19.000000\n",
       "75%         23.000000\n",
       "max         67.000000\n",
       "Name: NU_IDADE, dtype: float64"
      ]
     },
     "execution_count": 9,
     "metadata": {},
     "output_type": "execute_result"
    }
   ],
   "source": [
    "df['NU_IDADE'].describe()"
   ]
  },
  {
   "cell_type": "code",
   "execution_count": 10,
   "metadata": {
    "ExecuteTime": {
     "end_time": "2020-06-08T04:20:47.053336Z",
     "start_time": "2020-06-08T04:20:46.829630Z"
    }
   },
   "outputs": [
    {
     "data": {
      "text/plain": [
       "<matplotlib.axes._subplots.AxesSubplot at 0x7fc72ce25a00>"
      ]
     },
     "execution_count": 10,
     "metadata": {},
     "output_type": "execute_result"
    },
    {
     "data": {
      "image/png": "[encoded data removed]",
      "text/plain": [
       "<Figure size 432x288 with 1 Axes>"
      ]
     },
     "metadata": {
      "needs_background": "light"
     },
     "output_type": "display_data"
    }
   ],
   "source": [
    "sns.boxplot(df['NU_IDADE'])"
   ]
  },
  {
   "cell_type": "code",
   "execution_count": 11,
   "metadata": {
    "ExecuteTime": {
     "end_time": "2020-06-08T04:20:47.367821Z",
     "start_time": "2020-06-08T04:20:47.055401Z"
    }
   },
   "outputs": [
    {
     "data": {
      "text/plain": [
       "<matplotlib.axes._subplots.AxesSubplot at 0x7fc6f00b62b0>"
      ]
     },
     "execution_count": 11,
     "metadata": {},
     "output_type": "execute_result"
    },
    {
     "data": {
      "image/png": "[encoded data removed]",
      "text/plain": [
       "<Figure size 432x288 with 1 Axes>"
      ]
     },
     "metadata": {
      "needs_background": "light"
     },
     "output_type": "display_data"
    }
   ],
   "source": [
    "sns.distplot(df.loc[df['IN_TREINEIRO'] == 1, 'NU_IDADE'])"
   ]
  },
  {
   "cell_type": "markdown",
   "metadata": {},
   "source": [
    "Não existe nenhum treineiro acima de 18 anos."
   ]
  },
  {
   "cell_type": "code",
   "execution_count": 12,
   "metadata": {
    "ExecuteTime": {
     "end_time": "2020-06-08T04:20:47.373778Z",
     "start_time": "2020-06-08T04:20:47.369622Z"
    }
   },
   "outputs": [],
   "source": [
    "df['MAIOR'] = df['NU_IDADE'] > 18"
   ]
  },
  {
   "cell_type": "code",
   "execution_count": 13,
   "metadata": {
    "ExecuteTime": {
     "end_time": "2020-06-08T04:20:47.470879Z",
     "start_time": "2020-06-08T04:20:47.376462Z"
    }
   },
   "outputs": [],
   "source": [
    "features = [\n",
    "    'APTO',\n",
    "    'CONCLUIU',\n",
    "    'MAIOR'\n",
    "]"
   ]
  },
  {
   "cell_type": "markdown",
   "metadata": {},
   "source": [
    "## Pré-processamento"
   ]
  },
  {
   "cell_type": "code",
   "execution_count": 14,
   "metadata": {
    "ExecuteTime": {
     "end_time": "2020-06-08T04:20:47.847273Z",
     "start_time": "2020-06-08T04:20:47.472837Z"
    },
    "scrolled": true
   },
   "outputs": [
    {
     "data": {
      "text/plain": [
       "<matplotlib.axes._subplots.AxesSubplot at 0x7fc6f03863d0>"
      ]
     },
     "execution_count": 14,
     "metadata": {},
     "output_type": "execute_result"
    },
    {
     "data": {
      "image/png": "[encoded data removed]",
      "text/plain": [
       "<Figure size 432x288 with 2 Axes>"
      ]
     },
     "metadata": {
      "needs_background": "light"
     },
     "output_type": "display_data"
    }
   ],
   "source": [
    "sns.heatmap(df[features+[target]].corr(), cmap='RdBu_r')"
   ]
  },
  {
   "cell_type": "markdown",
   "metadata": {},
   "source": [
    "Existem algumas correlações entre as variáveis. É possível aplicar uma redução de dimensionalidade."
   ]
  },
  {
   "cell_type": "markdown",
   "metadata": {},
   "source": [
    "Apenas duas features são necessárias para explicar 99% da variância."
   ]
  },
  {
   "cell_type": "code",
   "execution_count": 15,
   "metadata": {
    "ExecuteTime": {
     "end_time": "2020-06-08T04:20:47.857513Z",
     "start_time": "2020-06-08T04:20:47.849904Z"
    }
   },
   "outputs": [
    {
     "data": {
      "text/plain": [
       "0.12986161689730516"
      ]
     },
     "execution_count": 15,
     "metadata": {},
     "output_type": "execute_result"
    }
   ],
   "source": [
    "df[target].mean()"
   ]
  },
  {
   "cell_type": "markdown",
   "metadata": {},
   "source": [
    "O target é uma classe desbalanceada, onde apenas 13% dos candidatos se classificam como treineiros.\n",
    "\n",
    "Desta forma, devemos aplicar algum algoritmo para balancear os dados."
   ]
  },
  {
   "cell_type": "code",
   "execution_count": 16,
   "metadata": {
    "ExecuteTime": {
     "end_time": "2020-06-08T04:20:48.030222Z",
     "start_time": "2020-06-08T04:20:47.860709Z"
    }
   },
   "outputs": [],
   "source": [
    "X = df[features]\n",
    "y = df[target]\n",
    "\n",
    "sm = SMOTE()\n",
    "X_balanced, y_balanced = sm.fit_resample(X, y)"
   ]
  },
  {
   "cell_type": "code",
   "execution_count": 17,
   "metadata": {
    "ExecuteTime": {
     "end_time": "2020-06-08T04:20:48.062223Z",
     "start_time": "2020-06-08T04:20:48.032171Z"
    }
   },
   "outputs": [],
   "source": [
    "X_train, X_test, y_train, y_test = train_test_split(X_balanced, y_balanced, test_size=0.2)"
   ]
  },
  {
   "cell_type": "code",
   "execution_count": 18,
   "metadata": {
    "ExecuteTime": {
     "end_time": "2020-06-08T04:20:48.241932Z",
     "start_time": "2020-06-08T04:20:48.063984Z"
    }
   },
   "outputs": [
    {
     "name": "stdout",
     "output_type": "stream",
     "text": [
      "[[2371   48]\n",
      " [   0 2360]]\n",
      "0.9899328859060402\n"
     ]
    }
   ],
   "source": [
    "lr_model = LogisticRegression()\n",
    "lr_model.fit(X_train, y_train)\n",
    "\n",
    "y_pred = lr_model.predict(X_test)\n",
    "cm = confusion_matrix(y_test, y_pred)\n",
    "print(cm)\n",
    "print(f1_score(y_test, y_pred))"
   ]
  },
  {
   "cell_type": "code",
   "execution_count": 19,
   "metadata": {
    "ExecuteTime": {
     "end_time": "2020-06-08T04:20:48.852972Z",
     "start_time": "2020-06-08T04:20:48.250205Z"
    }
   },
   "outputs": [
    {
     "name": "stdout",
     "output_type": "stream",
     "text": [
      "[[2371   48]\n",
      " [   0 2360]]\n",
      "0.9899328859060402\n"
     ]
    }
   ],
   "source": [
    "rf_model = RandomForestClassifier()\n",
    "rf_model.fit(X_train, y_train)\n",
    "\n",
    "y_pred = rf_model.predict(X_test)\n",
    "cm = confusion_matrix(y_test, y_pred)\n",
    "print(cm)\n",
    "print(f1_score(y_test, y_pred))"
   ]
  },
  {
   "cell_type": "code",
   "execution_count": 20,
   "metadata": {
    "ExecuteTime": {
     "end_time": "2020-06-08T04:20:49.798629Z",
     "start_time": "2020-06-08T04:20:48.856191Z"
    }
   },
   "outputs": [
    {
     "name": "stdout",
     "output_type": "stream",
     "text": [
      "[[2371   48]\n",
      " [   0 2360]]\n",
      "0.9899328859060402\n"
     ]
    }
   ],
   "source": [
    "knn_model = KNeighborsClassifier()\n",
    "knn_model.fit(X_train, y_train)\n",
    "\n",
    "y_pred = knn_model.predict(X_test)\n",
    "cm = confusion_matrix(y_test, y_pred)\n",
    "print(cm)\n",
    "print(f1_score(y_test, y_pred))"
   ]
  },
  {
   "cell_type": "code",
   "execution_count": 21,
   "metadata": {
    "ExecuteTime": {
     "end_time": "2020-06-08T04:20:49.830593Z",
     "start_time": "2020-06-08T04:20:49.801257Z"
    }
   },
   "outputs": [
    {
     "name": "stdout",
     "output_type": "stream",
     "text": [
      "[[2371   48]\n",
      " [   0 2360]]\n",
      "0.9899328859060402\n"
     ]
    }
   ],
   "source": [
    "nb_model = GaussianNB()\n",
    "nb_model.fit(X_train, y_train)\n",
    "\n",
    "y_pred = nb_model.predict(X_test)\n",
    "cm = confusion_matrix(y_test, y_pred)\n",
    "print(cm)\n",
    "print(f1_score(y_test, y_pred))"
   ]
  },
  {
   "cell_type": "code",
   "execution_count": 22,
   "metadata": {
    "ExecuteTime": {
     "end_time": "2020-06-08T04:20:51.532530Z",
     "start_time": "2020-06-08T04:20:49.836348Z"
    },
    "scrolled": true
   },
   "outputs": [
    {
     "name": "stdout",
     "output_type": "stream",
     "text": [
      "[[2371   48]\n",
      " [   0 2360]]\n",
      "0.9899328859060402\n"
     ]
    }
   ],
   "source": [
    "voter = VotingClassifier(\n",
    "    [\n",
    "        ('Logistic', lr_model),\n",
    "        ('RandomForest', rf_model),\n",
    "        ('KNeighbors', knn_model),\n",
    "        ('NaiveBayes', nb_model),\n",
    "    ],\n",
    "    voting='soft'\n",
    ")\n",
    "\n",
    "voter.fit(X_train, y_train)\n",
    "y_pred = voter.predict(X_test)\n",
    "cm = confusion_matrix(y_test, y_pred)\n",
    "print(cm)\n",
    "print(f1_score(y_test, y_pred))"
   ]
  },
  {
   "cell_type": "markdown",
   "metadata": {},
   "source": [
    "Checando as entradas onde os modelos falharam:"
   ]
  },
  {
   "cell_type": "code",
   "execution_count": 23,
   "metadata": {
    "ExecuteTime": {
     "end_time": "2020-06-08T04:20:51.582068Z",
     "start_time": "2020-06-08T04:20:51.536309Z"
    }
   },
   "outputs": [
    {
     "data": {
      "text/html": [
       "<div>\n",
       "<style scoped>\n",
       "    .dataframe tbody tr th:only-of-type {\n",
       "        vertical-align: middle;\n",
       "    }\n",
       "\n",
       "    .dataframe tbody tr th {\n",
       "        vertical-align: top;\n",
       "    }\n",
       "\n",
       "    .dataframe thead th {\n",
       "        text-align: right;\n",
       "    }\n",
       "</style>\n",
       "<table border=\"1\" class=\"dataframe\">\n",
       "  <thead>\n",
       "    <tr style=\"text-align: right;\">\n",
       "      <th></th>\n",
       "      <th>APTO_test</th>\n",
       "      <th>CONCLUIU_test</th>\n",
       "      <th>MAIOR_test</th>\n",
       "      <th>CO_UF_RESIDENCIA</th>\n",
       "      <th>SG_UF_RESIDENCIA</th>\n",
       "      <th>NU_IDADE</th>\n",
       "      <th>TP_SEXO</th>\n",
       "      <th>TP_COR_RACA</th>\n",
       "      <th>TP_NACIONALIDADE</th>\n",
       "      <th>TP_ST_CONCLUSAO</th>\n",
       "      <th>TP_ANO_CONCLUIU</th>\n",
       "      <th>TP_ESCOLA</th>\n",
       "      <th>TP_ENSINO</th>\n",
       "      <th>TP_DEPENDENCIA_ADM_ESC</th>\n",
       "      <th>IN_BAIXA_VISAO</th>\n",
       "      <th>IN_CEGUEIRA</th>\n",
       "      <th>IN_SURDEZ</th>\n",
       "      <th>IN_DISLEXIA</th>\n",
       "      <th>IN_DISCALCULIA</th>\n",
       "      <th>IN_SABATISTA</th>\n",
       "      <th>IN_GESTANTE</th>\n",
       "      <th>IN_IDOSO</th>\n",
       "      <th>TP_PRESENCA_CN</th>\n",
       "      <th>TP_PRESENCA_CH</th>\n",
       "      <th>TP_PRESENCA_LC</th>\n",
       "      <th>TP_PRESENCA_MT</th>\n",
       "      <th>NU_NOTA_CN</th>\n",
       "      <th>NU_NOTA_CH</th>\n",
       "      <th>NU_NOTA_LC</th>\n",
       "      <th>TP_LINGUA</th>\n",
       "      <th>TP_STATUS_REDACAO</th>\n",
       "      <th>NU_NOTA_COMP1</th>\n",
       "      <th>NU_NOTA_COMP2</th>\n",
       "      <th>NU_NOTA_COMP3</th>\n",
       "      <th>NU_NOTA_COMP4</th>\n",
       "      <th>NU_NOTA_COMP5</th>\n",
       "      <th>NU_NOTA_REDACAO</th>\n",
       "      <th>Q001</th>\n",
       "      <th>Q002</th>\n",
       "      <th>Q006</th>\n",
       "      <th>Q024</th>\n",
       "      <th>Q025</th>\n",
       "      <th>Q026</th>\n",
       "      <th>Q027</th>\n",
       "      <th>Q047</th>\n",
       "      <th>IN_TREINEIRO</th>\n",
       "      <th>APTO</th>\n",
       "      <th>CONCLUIU</th>\n",
       "      <th>MAIOR</th>\n",
       "    </tr>\n",
       "  </thead>\n",
       "  <tbody>\n",
       "  </tbody>\n",
       "</table>\n",
       "</div>"
      ],
      "text/plain": [
       "Empty DataFrame\n",
       "Columns: [APTO_test, CONCLUIU_test, MAIOR_test, CO_UF_RESIDENCIA, SG_UF_RESIDENCIA, NU_IDADE, TP_SEXO, TP_COR_RACA, TP_NACIONALIDADE, TP_ST_CONCLUSAO, TP_ANO_CONCLUIU, TP_ESCOLA, TP_ENSINO, TP_DEPENDENCIA_ADM_ESC, IN_BAIXA_VISAO, IN_CEGUEIRA, IN_SURDEZ, IN_DISLEXIA, IN_DISCALCULIA, IN_SABATISTA, IN_GESTANTE, IN_IDOSO, TP_PRESENCA_CN, TP_PRESENCA_CH, TP_PRESENCA_LC, TP_PRESENCA_MT, NU_NOTA_CN, NU_NOTA_CH, NU_NOTA_LC, TP_LINGUA, TP_STATUS_REDACAO, NU_NOTA_COMP1, NU_NOTA_COMP2, NU_NOTA_COMP3, NU_NOTA_COMP4, NU_NOTA_COMP5, NU_NOTA_REDACAO, Q001, Q002, Q006, Q024, Q025, Q026, Q027, Q047, IN_TREINEIRO, APTO, CONCLUIU, MAIOR]\n",
       "Index: []"
      ]
     },
     "execution_count": 23,
     "metadata": {},
     "output_type": "execute_result"
    }
   ],
   "source": [
    "X_test.loc[y_test != y_pred,].join(\n",
    "    df, how='inner', lsuffix='_test'\n",
    ")"
   ]
  },
  {
   "cell_type": "markdown",
   "metadata": {
    "ExecuteTime": {
     "end_time": "2020-06-08T04:10:41.311237Z",
     "start_time": "2020-06-08T04:10:41.306976Z"
    }
   },
   "source": [
    "Como a interseção entre os dados balanceados e os dados originais é vazio, concluímos que apenas os dados artificiais geraram erro."
   ]
  },
  {
   "cell_type": "markdown",
   "metadata": {},
   "source": [
    "## Aplicando o modelo"
   ]
  },
  {
   "cell_type": "code",
   "execution_count": 24,
   "metadata": {
    "ExecuteTime": {
     "end_time": "2020-06-08T04:20:51.717683Z",
     "start_time": "2020-06-08T04:20:51.585169Z"
    }
   },
   "outputs": [
    {
     "data": {
      "text/html": [
       "<div>\n",
       "<style scoped>\n",
       "    .dataframe tbody tr th:only-of-type {\n",
       "        vertical-align: middle;\n",
       "    }\n",
       "\n",
       "    .dataframe tbody tr th {\n",
       "        vertical-align: top;\n",
       "    }\n",
       "\n",
       "    .dataframe thead th {\n",
       "        text-align: right;\n",
       "    }\n",
       "</style>\n",
       "<table border=\"1\" class=\"dataframe\">\n",
       "  <thead>\n",
       "    <tr style=\"text-align: right;\">\n",
       "      <th></th>\n",
       "      <th>APTO</th>\n",
       "      <th>CONCLUIU</th>\n",
       "      <th>MAIOR</th>\n",
       "    </tr>\n",
       "    <tr>\n",
       "      <th>NU_INSCRICAO</th>\n",
       "      <th></th>\n",
       "      <th></th>\n",
       "      <th></th>\n",
       "    </tr>\n",
       "  </thead>\n",
       "  <tbody>\n",
       "    <tr>\n",
       "      <th>ba0cc30ba34e7a46764c09dfc38ed83d15828897</th>\n",
       "      <td>True</td>\n",
       "      <td>True</td>\n",
       "      <td>True</td>\n",
       "    </tr>\n",
       "    <tr>\n",
       "      <th>177f281c68fa032aedbd842a745da68490926cd2</th>\n",
       "      <td>True</td>\n",
       "      <td>True</td>\n",
       "      <td>True</td>\n",
       "    </tr>\n",
       "    <tr>\n",
       "      <th>6cf0d8b97597d7625cdedc7bdb6c0f052286c334</th>\n",
       "      <td>False</td>\n",
       "      <td>False</td>\n",
       "      <td>False</td>\n",
       "    </tr>\n",
       "    <tr>\n",
       "      <th>5c356d810fa57671402502cd0933e5601a2ebf1e</th>\n",
       "      <td>True</td>\n",
       "      <td>False</td>\n",
       "      <td>False</td>\n",
       "    </tr>\n",
       "    <tr>\n",
       "      <th>df47c07bd881c2db3f38c6048bf77c132ad0ceb3</th>\n",
       "      <td>True</td>\n",
       "      <td>True</td>\n",
       "      <td>True</td>\n",
       "    </tr>\n",
       "    <tr>\n",
       "      <th>...</th>\n",
       "      <td>...</td>\n",
       "      <td>...</td>\n",
       "      <td>...</td>\n",
       "    </tr>\n",
       "    <tr>\n",
       "      <th>361b7fcd8867119550fe2af5aa729ffad89a7cf5</th>\n",
       "      <td>True</td>\n",
       "      <td>False</td>\n",
       "      <td>False</td>\n",
       "    </tr>\n",
       "    <tr>\n",
       "      <th>d8a0e4c9e29494cc9bba2422bd79333931475ee1</th>\n",
       "      <td>True</td>\n",
       "      <td>True</td>\n",
       "      <td>True</td>\n",
       "    </tr>\n",
       "    <tr>\n",
       "      <th>3f1c3388244df8d6521e983a809292d9f3bca643</th>\n",
       "      <td>True</td>\n",
       "      <td>True</td>\n",
       "      <td>True</td>\n",
       "    </tr>\n",
       "    <tr>\n",
       "      <th>1778e9c4cef591beb6b986d191d15ed05de816b0</th>\n",
       "      <td>True</td>\n",
       "      <td>False</td>\n",
       "      <td>True</td>\n",
       "    </tr>\n",
       "    <tr>\n",
       "      <th>096809759695097e384e766d2d9e23a34fc81610</th>\n",
       "      <td>True</td>\n",
       "      <td>True</td>\n",
       "      <td>True</td>\n",
       "    </tr>\n",
       "  </tbody>\n",
       "</table>\n",
       "<p>4570 rows × 3 columns</p>\n",
       "</div>"
      ],
      "text/plain": [
       "                                           APTO  CONCLUIU  MAIOR\n",
       "NU_INSCRICAO                                                    \n",
       "ba0cc30ba34e7a46764c09dfc38ed83d15828897   True      True   True\n",
       "177f281c68fa032aedbd842a745da68490926cd2   True      True   True\n",
       "6cf0d8b97597d7625cdedc7bdb6c0f052286c334  False     False  False\n",
       "5c356d810fa57671402502cd0933e5601a2ebf1e   True     False  False\n",
       "df47c07bd881c2db3f38c6048bf77c132ad0ceb3   True      True   True\n",
       "...                                         ...       ...    ...\n",
       "361b7fcd8867119550fe2af5aa729ffad89a7cf5   True     False  False\n",
       "d8a0e4c9e29494cc9bba2422bd79333931475ee1   True      True   True\n",
       "3f1c3388244df8d6521e983a809292d9f3bca643   True      True   True\n",
       "1778e9c4cef591beb6b986d191d15ed05de816b0   True     False   True\n",
       "096809759695097e384e766d2d9e23a34fc81610   True      True   True\n",
       "\n",
       "[4570 rows x 3 columns]"
      ]
     },
     "execution_count": 24,
     "metadata": {},
     "output_type": "execute_result"
    }
   ],
   "source": [
    "test_data['APTO'] = (test_data['TP_ST_CONCLUSAO'] <= 2) | (test_data['TP_ST_CONCLUSAO'] == 4)\n",
    "test_data['CONCLUIU'] = test_data['TP_ANO_CONCLUIU'] > 0\n",
    "test_data['MAIOR'] = test_data['NU_IDADE'] > 18\n",
    "X_test = test_data[features]\n",
    "X_test"
   ]
  },
  {
   "cell_type": "code",
   "execution_count": 25,
   "metadata": {
    "ExecuteTime": {
     "end_time": "2020-06-08T04:20:52.193050Z",
     "start_time": "2020-06-08T04:20:51.720396Z"
    }
   },
   "outputs": [],
   "source": [
    "y_pred = voter.predict(X_test)\n",
    "answer = pd.DataFrame(data={'IN_TREINEIRO': y_pred}, index=X_test.index)"
   ]
  },
  {
   "cell_type": "code",
   "execution_count": 26,
   "metadata": {
    "ExecuteTime": {
     "end_time": "2020-06-08T04:20:52.208998Z",
     "start_time": "2020-06-08T04:20:52.196440Z"
    }
   },
   "outputs": [
    {
     "data": {
      "text/html": [
       "<div>\n",
       "<style scoped>\n",
       "    .dataframe tbody tr th:only-of-type {\n",
       "        vertical-align: middle;\n",
       "    }\n",
       "\n",
       "    .dataframe tbody tr th {\n",
       "        vertical-align: top;\n",
       "    }\n",
       "\n",
       "    .dataframe thead th {\n",
       "        text-align: right;\n",
       "    }\n",
       "</style>\n",
       "<table border=\"1\" class=\"dataframe\">\n",
       "  <thead>\n",
       "    <tr style=\"text-align: right;\">\n",
       "      <th></th>\n",
       "      <th>IN_TREINEIRO</th>\n",
       "    </tr>\n",
       "    <tr>\n",
       "      <th>NU_INSCRICAO</th>\n",
       "      <th></th>\n",
       "    </tr>\n",
       "  </thead>\n",
       "  <tbody>\n",
       "    <tr>\n",
       "      <th>ba0cc30ba34e7a46764c09dfc38ed83d15828897</th>\n",
       "      <td>0</td>\n",
       "    </tr>\n",
       "    <tr>\n",
       "      <th>177f281c68fa032aedbd842a745da68490926cd2</th>\n",
       "      <td>0</td>\n",
       "    </tr>\n",
       "    <tr>\n",
       "      <th>6cf0d8b97597d7625cdedc7bdb6c0f052286c334</th>\n",
       "      <td>1</td>\n",
       "    </tr>\n",
       "    <tr>\n",
       "      <th>5c356d810fa57671402502cd0933e5601a2ebf1e</th>\n",
       "      <td>0</td>\n",
       "    </tr>\n",
       "    <tr>\n",
       "      <th>df47c07bd881c2db3f38c6048bf77c132ad0ceb3</th>\n",
       "      <td>0</td>\n",
       "    </tr>\n",
       "    <tr>\n",
       "      <th>3f28749fb79fb059caf5aed79625a5addfd7a91a</th>\n",
       "      <td>0</td>\n",
       "    </tr>\n",
       "    <tr>\n",
       "      <th>bb2a0edddf3c59181a1496390aaaee7f32624d9d</th>\n",
       "      <td>1</td>\n",
       "    </tr>\n",
       "    <tr>\n",
       "      <th>cc7cab347fe5455aae983f3701ca40f84dc01949</th>\n",
       "      <td>0</td>\n",
       "    </tr>\n",
       "    <tr>\n",
       "      <th>95e9338f1da02f7bfa0e3194130afdccc0fb5457</th>\n",
       "      <td>1</td>\n",
       "    </tr>\n",
       "    <tr>\n",
       "      <th>155f84f2ee5b34e658f2adcc70f2ec83e37040cb</th>\n",
       "      <td>0</td>\n",
       "    </tr>\n",
       "  </tbody>\n",
       "</table>\n",
       "</div>"
      ],
      "text/plain": [
       "                                          IN_TREINEIRO\n",
       "NU_INSCRICAO                                          \n",
       "ba0cc30ba34e7a46764c09dfc38ed83d15828897             0\n",
       "177f281c68fa032aedbd842a745da68490926cd2             0\n",
       "6cf0d8b97597d7625cdedc7bdb6c0f052286c334             1\n",
       "5c356d810fa57671402502cd0933e5601a2ebf1e             0\n",
       "df47c07bd881c2db3f38c6048bf77c132ad0ceb3             0\n",
       "3f28749fb79fb059caf5aed79625a5addfd7a91a             0\n",
       "bb2a0edddf3c59181a1496390aaaee7f32624d9d             1\n",
       "cc7cab347fe5455aae983f3701ca40f84dc01949             0\n",
       "95e9338f1da02f7bfa0e3194130afdccc0fb5457             1\n",
       "155f84f2ee5b34e658f2adcc70f2ec83e37040cb             0"
      ]
     },
     "execution_count": 26,
     "metadata": {},
     "output_type": "execute_result"
    }
   ],
   "source": [
    "answer.head(10)"
   ]
  },
  {
   "cell_type": "code",
   "execution_count": 27,
   "metadata": {
    "ExecuteTime": {
     "end_time": "2020-06-08T04:20:52.376657Z",
     "start_time": "2020-06-08T04:20:52.211968Z"
    }
   },
   "outputs": [
    {
     "data": {
      "text/html": [
       "<div>\n",
       "<style scoped>\n",
       "    .dataframe tbody tr th:only-of-type {\n",
       "        vertical-align: middle;\n",
       "    }\n",
       "\n",
       "    .dataframe tbody tr th {\n",
       "        vertical-align: top;\n",
       "    }\n",
       "\n",
       "    .dataframe thead th {\n",
       "        text-align: right;\n",
       "    }\n",
       "</style>\n",
       "<table border=\"1\" class=\"dataframe\">\n",
       "  <thead>\n",
       "    <tr style=\"text-align: right;\">\n",
       "      <th></th>\n",
       "      <th>IN_TREINEIRO</th>\n",
       "    </tr>\n",
       "  </thead>\n",
       "  <tbody>\n",
       "    <tr>\n",
       "      <th>count</th>\n",
       "      <td>4570.000000</td>\n",
       "    </tr>\n",
       "    <tr>\n",
       "      <th>mean</th>\n",
       "      <td>0.138731</td>\n",
       "    </tr>\n",
       "    <tr>\n",
       "      <th>std</th>\n",
       "      <td>0.345703</td>\n",
       "    </tr>\n",
       "    <tr>\n",
       "      <th>min</th>\n",
       "      <td>0.000000</td>\n",
       "    </tr>\n",
       "    <tr>\n",
       "      <th>25%</th>\n",
       "      <td>0.000000</td>\n",
       "    </tr>\n",
       "    <tr>\n",
       "      <th>50%</th>\n",
       "      <td>0.000000</td>\n",
       "    </tr>\n",
       "    <tr>\n",
       "      <th>75%</th>\n",
       "      <td>0.000000</td>\n",
       "    </tr>\n",
       "    <tr>\n",
       "      <th>max</th>\n",
       "      <td>1.000000</td>\n",
       "    </tr>\n",
       "  </tbody>\n",
       "</table>\n",
       "</div>"
      ],
      "text/plain": [
       "       IN_TREINEIRO\n",
       "count   4570.000000\n",
       "mean       0.138731\n",
       "std        0.345703\n",
       "min        0.000000\n",
       "25%        0.000000\n",
       "50%        0.000000\n",
       "75%        0.000000\n",
       "max        1.000000"
      ]
     },
     "execution_count": 27,
     "metadata": {},
     "output_type": "execute_result"
    }
   ],
   "source": [
    "answer.describe()"
   ]
  },
  {
   "cell_type": "code",
   "execution_count": 28,
   "metadata": {
    "ExecuteTime": {
     "end_time": "2020-06-08T04:20:52.445810Z",
     "start_time": "2020-06-08T04:20:52.379153Z"
    }
   },
   "outputs": [],
   "source": [
    "answer.to_csv('answer.csv')"
   ]
  },
  {
   "cell_type": "code",
   "execution_count": null,
   "metadata": {},
   "outputs": [],
   "source": []
  }
 ],
 "metadata": {
  "kernelspec": {
   "display_name": "Python 3",
   "language": "python",
   "name": "python3"
  },
  "language_info": {
   "codemirror_mode": {
    "name": "ipython",
    "version": 3
   },
   "file_extension": ".py",
   "mimetype": "text/x-python",
   "name": "python",
   "nbconvert_exporter": "python",
   "pygments_lexer": "ipython3",
   "version": "3.8.2"
  },
  "varInspector": {
   "cols": {
    "lenName": 16,
    "lenType": 16,
    "lenVar": 40
   },
   "kernels_config": {
    "python": {
     "delete_cmd_postfix": "",
     "delete_cmd_prefix": "del ",
     "library": "var_list.py",
     "varRefreshCmd": "print(var_dic_list())"
    },
    "r": {
     "delete_cmd_postfix": ") ",
     "delete_cmd_prefix": "rm(",
     "library": "var_list.r",
     "varRefreshCmd": "cat(var_dic_list()) "
    }
   },
   "types_to_exclude": [
    "module",
    "function",
    "builtin_function_or_method",
    "instance",
    "_Feature"
   ],
   "window_display": false
  }
 },
 "nbformat": 4,
 "nbformat_minor": 4
}
