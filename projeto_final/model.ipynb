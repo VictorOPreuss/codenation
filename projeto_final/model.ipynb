{
 "cells": [
  {
   "cell_type": "code",
   "execution_count": 1,
   "metadata": {
    "ExecuteTime": {
     "end_time": "2020-06-14T00:25:17.176836Z",
     "start_time": "2020-06-14T00:25:12.417084Z"
    }
   },
   "outputs": [],
   "source": [
    "import pandas as pd\n",
    "import numpy as np\n",
    "from sklearn.model_selection import train_test_split\n",
    "from sklearn.metrics.pairwise import cosine_similarity"
   ]
  },
  {
   "cell_type": "code",
   "execution_count": 2,
   "metadata": {
    "ExecuteTime": {
     "end_time": "2020-06-14T00:25:17.187382Z",
     "start_time": "2020-06-14T00:25:17.180357Z"
    }
   },
   "outputs": [],
   "source": [
    "def get_weights(var, mean, curve_maximum=4, growth_rate=4, mean_importance=10):\n",
    "        # This is adapted from the logistic function\n",
    "        # https://en.wikipedia.org/wiki/Logistic_function\n",
    "    return (curve_maximum * np.exp(mean_importance * mean)) / (1 + np.exp(-growth_rate * (1-var)))"
   ]
  },
  {
   "cell_type": "code",
   "execution_count": 3,
   "metadata": {
    "ExecuteTime": {
     "end_time": "2020-06-14T00:25:17.490181Z",
     "start_time": "2020-06-14T00:25:17.191420Z"
    }
   },
   "outputs": [],
   "source": [
    "def normalize_col(df_col):\n",
    "    return (df_col-df_col.min())/(df_col.max()-df_col.min())"
   ]
  },
  {
   "cell_type": "code",
   "execution_count": 4,
   "metadata": {
    "ExecuteTime": {
     "end_time": "2020-06-14T00:25:17.622179Z",
     "start_time": "2020-06-14T00:25:17.491866Z"
    }
   },
   "outputs": [],
   "source": [
    "def merge_portolio_ids_to_base(portfolio_ids, base):\n",
    "    return portfolio_ids.merge(base, on='id', how='inner')"
   ]
  },
  {
   "cell_type": "code",
   "execution_count": 5,
   "metadata": {
    "ExecuteTime": {
     "end_time": "2020-06-14T00:25:17.946223Z",
     "start_time": "2020-06-14T00:25:17.624598Z"
    }
   },
   "outputs": [],
   "source": [
    "def get_leads(portfolio_ids, base, max_leads=None):\n",
    "    \n",
    "    portfolio = merge_portolio_ids_to_base(portfolio_ids, base)\n",
    "    \n",
    "    # Apply a inverse variance weight on each column before finding the similarities.\n",
    "    # This way, we emphasize the features with little variance, which means our\n",
    "    # client probably looks at those features to choose their next clients.\n",
    "    # It's important to take the means into account. If there's some feature that is mostly\n",
    "    # zero but have few occurences, it would have low variance, inflating the weight.\n",
    "    weights = get_weights(normalize_col(portfolio.var()), normalize_col(portfolio.mean()))\n",
    "    portfolio = portfolio.mul(weights)\n",
    "    base = base.mul(weights)\n",
    "    \n",
    "    # 1 for equal vectors. -1 for completely different\n",
    "    similarities = cosine_similarity(base, portfolio)\n",
    "    \n",
    "    # Free up some memory\n",
    "    del portfolio\n",
    "    \n",
    "    # argsort with axis=None will return the numeric indexes of the flattened array in ascending order. \n",
    "    # The unravel will rebuild the indexes of the flattened array.\n",
    "    ind = np.unravel_index(np.argsort(similarities, axis=None)[::-1], similarities.shape)\n",
    "    \n",
    "    # Since the shape of similarities is (n_rows_in_base, n_rows_in_portfolio),\n",
    "    # it's sufficient to look at the first axis.\n",
    "    unique, counts = np.unique(ind[0][:portfolio_ids.shape[0] * 10], return_counts=True)\n",
    "    leads_indices = list()\n",
    "    counts_total = 0\n",
    "    for count, idx in sorted(zip(counts, unique), reverse=True):\n",
    "        leads_indices.append(idx)\n",
    "        counts_total += count\n",
    "        if counts_total >= portfolio_ids.shape[0] * 10:\n",
    "            break\n",
    "\n",
    "    leads = base.index.values[leads_indices]\n",
    "    leads = leads[np.isin(leads, portfolio_ids.index.values, invert=True)]\n",
    "    \n",
    "    leads = pd.DataFrame({'id': leads}).set_index('id')\n",
    "    if max_leads:\n",
    "        return leads[:max_leads]\n",
    "    \n",
    "    return leads"
   ]
  },
  {
   "cell_type": "code",
   "execution_count": 6,
   "metadata": {
    "ExecuteTime": {
     "end_time": "2020-06-14T00:25:18.171183Z",
     "start_time": "2020-06-14T00:25:17.948564Z"
    }
   },
   "outputs": [],
   "source": [
    "def get_leads_metrics(leads, portfolio):\n",
    "    # Do a split in the original portfolio and pass the validation portion here\n",
    "    \n",
    "    # How many (%) leads are actually in the portfolio?\n",
    "    precision = np.isin(portfolio.index.values, leads.index.values).sum() / portfolio.index.values.shape[0]\n",
    "    recall = np.isin(portfolio.index.values, leads.index.values).sum() / leads.index.values.shape[0]\n",
    "    f1_score = 2*precision*recall / (precision + recall)\n",
    "    return precision, recall, f1_score"
   ]
  },
  {
   "cell_type": "code",
   "execution_count": 7,
   "metadata": {
    "ExecuteTime": {
     "end_time": "2020-06-14T00:25:18.368001Z",
     "start_time": "2020-06-14T00:25:18.174156Z"
    }
   },
   "outputs": [],
   "source": [
    "def get_portfolio_ids(filename):\n",
    "    return pd.read_csv(filename, index_col='id', usecols=['id'])"
   ]
  },
  {
   "cell_type": "code",
   "execution_count": 8,
   "metadata": {
    "ExecuteTime": {
     "end_time": "2020-06-14T00:25:18.557171Z",
     "start_time": "2020-06-14T00:25:18.370852Z"
    }
   },
   "outputs": [],
   "source": [
    "def test_portfolio(filename):\n",
    "    port = get_portfolio_ids(filename)\n",
    "    port_train, port_valid = train_test_split(port, test_size=0.3)\n",
    "    port_leads = get_leads(port_train, df)\n",
    "    precision, recall, f1_score = get_leads_metrics(port_leads, port_valid)\n",
    "    print(f'{precision*100:.2f}% do conjunto de teste já está presente no portfólio {filename}.')\n",
    "    print(f'recall: {recall*100:.2f}% e f1-score: {f1_score*100:.2f}%.')\n",
    "    return port_leads"
   ]
  },
  {
   "cell_type": "code",
   "execution_count": 9,
   "metadata": {
    "ExecuteTime": {
     "end_time": "2020-06-14T00:25:23.217394Z",
     "start_time": "2020-06-14T00:25:18.559530Z"
    },
    "scrolled": true
   },
   "outputs": [
    {
     "data": {
      "text/html": [
       "<div>\n",
       "<style scoped>\n",
       "    .dataframe tbody tr th:only-of-type {\n",
       "        vertical-align: middle;\n",
       "    }\n",
       "\n",
       "    .dataframe tbody tr th {\n",
       "        vertical-align: top;\n",
       "    }\n",
       "\n",
       "    .dataframe thead th {\n",
       "        text-align: right;\n",
       "    }\n",
       "</style>\n",
       "<table border=\"1\" class=\"dataframe\">\n",
       "  <thead>\n",
       "    <tr style=\"text-align: right;\">\n",
       "      <th></th>\n",
       "      <th>fl_matriz</th>\n",
       "      <th>idade_empresa_anos</th>\n",
       "      <th>fl_me</th>\n",
       "      <th>fl_sa</th>\n",
       "      <th>fl_epp</th>\n",
       "      <th>fl_mei</th>\n",
       "      <th>fl_ltda</th>\n",
       "      <th>fl_st_especial</th>\n",
       "      <th>fl_rm</th>\n",
       "      <th>fl_spa</th>\n",
       "      <th>...</th>\n",
       "      <th>de_ramo-SIDERURGICA-METALURGIA</th>\n",
       "      <th>de_ramo-TELECOM</th>\n",
       "      <th>de_ramo-TEXTEIS</th>\n",
       "      <th>de_ramo-TRANSPORTE, ARMAZENAGEM E CORREIO</th>\n",
       "      <th>setor-AGROPECUARIA</th>\n",
       "      <th>setor-COMERCIO</th>\n",
       "      <th>setor-CONSTRUÇÃO CIVIL</th>\n",
       "      <th>setor-INDUSTRIA</th>\n",
       "      <th>setor-OUTROS</th>\n",
       "      <th>setor-SERVIÇO</th>\n",
       "    </tr>\n",
       "    <tr>\n",
       "      <th>id</th>\n",
       "      <th></th>\n",
       "      <th></th>\n",
       "      <th></th>\n",
       "      <th></th>\n",
       "      <th></th>\n",
       "      <th></th>\n",
       "      <th></th>\n",
       "      <th></th>\n",
       "      <th></th>\n",
       "      <th></th>\n",
       "      <th></th>\n",
       "      <th></th>\n",
       "      <th></th>\n",
       "      <th></th>\n",
       "      <th></th>\n",
       "      <th></th>\n",
       "      <th></th>\n",
       "      <th></th>\n",
       "      <th></th>\n",
       "      <th></th>\n",
       "      <th></th>\n",
       "    </tr>\n",
       "  </thead>\n",
       "  <tbody>\n",
       "    <tr>\n",
       "      <th>a6984c3ae395090e3bee8ad63c3758b110de096d5d819583a784a113726db849</th>\n",
       "      <td>1</td>\n",
       "      <td>0.584005</td>\n",
       "      <td>0</td>\n",
       "      <td>0</td>\n",
       "      <td>0</td>\n",
       "      <td>0</td>\n",
       "      <td>0</td>\n",
       "      <td>0</td>\n",
       "      <td>1</td>\n",
       "      <td>0</td>\n",
       "      <td>...</td>\n",
       "      <td>0</td>\n",
       "      <td>0</td>\n",
       "      <td>0</td>\n",
       "      <td>0</td>\n",
       "      <td>0</td>\n",
       "      <td>0</td>\n",
       "      <td>1</td>\n",
       "      <td>0</td>\n",
       "      <td>0</td>\n",
       "      <td>0</td>\n",
       "    </tr>\n",
       "    <tr>\n",
       "      <th>6178f41ade1365e44bc2c46654c2c8c0eaae27dcb476c47fdef50b33f4f56f05</th>\n",
       "      <td>1</td>\n",
       "      <td>0.189909</td>\n",
       "      <td>0</td>\n",
       "      <td>0</td>\n",
       "      <td>0</td>\n",
       "      <td>0</td>\n",
       "      <td>0</td>\n",
       "      <td>0</td>\n",
       "      <td>1</td>\n",
       "      <td>0</td>\n",
       "      <td>...</td>\n",
       "      <td>0</td>\n",
       "      <td>0</td>\n",
       "      <td>0</td>\n",
       "      <td>0</td>\n",
       "      <td>0</td>\n",
       "      <td>0</td>\n",
       "      <td>0</td>\n",
       "      <td>0</td>\n",
       "      <td>0</td>\n",
       "      <td>1</td>\n",
       "    </tr>\n",
       "    <tr>\n",
       "      <th>4a7e5069a397f12fdd7fd57111d6dc5d3ba558958efc02edc5147bc2a2535b08</th>\n",
       "      <td>1</td>\n",
       "      <td>0.445164</td>\n",
       "      <td>0</td>\n",
       "      <td>0</td>\n",
       "      <td>0</td>\n",
       "      <td>0</td>\n",
       "      <td>0</td>\n",
       "      <td>0</td>\n",
       "      <td>1</td>\n",
       "      <td>0</td>\n",
       "      <td>...</td>\n",
       "      <td>0</td>\n",
       "      <td>0</td>\n",
       "      <td>0</td>\n",
       "      <td>1</td>\n",
       "      <td>0</td>\n",
       "      <td>0</td>\n",
       "      <td>0</td>\n",
       "      <td>0</td>\n",
       "      <td>0</td>\n",
       "      <td>1</td>\n",
       "    </tr>\n",
       "    <tr>\n",
       "      <th>3348900fe63216a439d2e5238c79ddd46ede454df7b9d8c24ac33eb21d4b21ef</th>\n",
       "      <td>1</td>\n",
       "      <td>0.429185</td>\n",
       "      <td>0</td>\n",
       "      <td>0</td>\n",
       "      <td>0</td>\n",
       "      <td>0</td>\n",
       "      <td>0</td>\n",
       "      <td>0</td>\n",
       "      <td>1</td>\n",
       "      <td>0</td>\n",
       "      <td>...</td>\n",
       "      <td>0</td>\n",
       "      <td>0</td>\n",
       "      <td>0</td>\n",
       "      <td>0</td>\n",
       "      <td>0</td>\n",
       "      <td>0</td>\n",
       "      <td>0</td>\n",
       "      <td>0</td>\n",
       "      <td>0</td>\n",
       "      <td>1</td>\n",
       "    </tr>\n",
       "    <tr>\n",
       "      <th>1f9bcabc9d3173c1fe769899e4fac14b053037b953a1e4b102c769f7611ab29f</th>\n",
       "      <td>1</td>\n",
       "      <td>0.304422</td>\n",
       "      <td>0</td>\n",
       "      <td>0</td>\n",
       "      <td>0</td>\n",
       "      <td>0</td>\n",
       "      <td>0</td>\n",
       "      <td>0</td>\n",
       "      <td>1</td>\n",
       "      <td>0</td>\n",
       "      <td>...</td>\n",
       "      <td>0</td>\n",
       "      <td>0</td>\n",
       "      <td>0</td>\n",
       "      <td>0</td>\n",
       "      <td>0</td>\n",
       "      <td>0</td>\n",
       "      <td>0</td>\n",
       "      <td>0</td>\n",
       "      <td>0</td>\n",
       "      <td>1</td>\n",
       "    </tr>\n",
       "  </tbody>\n",
       "</table>\n",
       "<p>5 rows × 64 columns</p>\n",
       "</div>"
      ],
      "text/plain": [
       "                                                    fl_matriz  \\\n",
       "id                                                              \n",
       "a6984c3ae395090e3bee8ad63c3758b110de096d5d81958...          1   \n",
       "6178f41ade1365e44bc2c46654c2c8c0eaae27dcb476c47...          1   \n",
       "4a7e5069a397f12fdd7fd57111d6dc5d3ba558958efc02e...          1   \n",
       "3348900fe63216a439d2e5238c79ddd46ede454df7b9d8c...          1   \n",
       "1f9bcabc9d3173c1fe769899e4fac14b053037b953a1e4b...          1   \n",
       "\n",
       "                                                    idade_empresa_anos  fl_me  \\\n",
       "id                                                                              \n",
       "a6984c3ae395090e3bee8ad63c3758b110de096d5d81958...            0.584005      0   \n",
       "6178f41ade1365e44bc2c46654c2c8c0eaae27dcb476c47...            0.189909      0   \n",
       "4a7e5069a397f12fdd7fd57111d6dc5d3ba558958efc02e...            0.445164      0   \n",
       "3348900fe63216a439d2e5238c79ddd46ede454df7b9d8c...            0.429185      0   \n",
       "1f9bcabc9d3173c1fe769899e4fac14b053037b953a1e4b...            0.304422      0   \n",
       "\n",
       "                                                    fl_sa  fl_epp  fl_mei  \\\n",
       "id                                                                          \n",
       "a6984c3ae395090e3bee8ad63c3758b110de096d5d81958...      0       0       0   \n",
       "6178f41ade1365e44bc2c46654c2c8c0eaae27dcb476c47...      0       0       0   \n",
       "4a7e5069a397f12fdd7fd57111d6dc5d3ba558958efc02e...      0       0       0   \n",
       "3348900fe63216a439d2e5238c79ddd46ede454df7b9d8c...      0       0       0   \n",
       "1f9bcabc9d3173c1fe769899e4fac14b053037b953a1e4b...      0       0       0   \n",
       "\n",
       "                                                    fl_ltda  fl_st_especial  \\\n",
       "id                                                                            \n",
       "a6984c3ae395090e3bee8ad63c3758b110de096d5d81958...        0               0   \n",
       "6178f41ade1365e44bc2c46654c2c8c0eaae27dcb476c47...        0               0   \n",
       "4a7e5069a397f12fdd7fd57111d6dc5d3ba558958efc02e...        0               0   \n",
       "3348900fe63216a439d2e5238c79ddd46ede454df7b9d8c...        0               0   \n",
       "1f9bcabc9d3173c1fe769899e4fac14b053037b953a1e4b...        0               0   \n",
       "\n",
       "                                                    fl_rm  fl_spa  ...  \\\n",
       "id                                                                 ...   \n",
       "a6984c3ae395090e3bee8ad63c3758b110de096d5d81958...      1       0  ...   \n",
       "6178f41ade1365e44bc2c46654c2c8c0eaae27dcb476c47...      1       0  ...   \n",
       "4a7e5069a397f12fdd7fd57111d6dc5d3ba558958efc02e...      1       0  ...   \n",
       "3348900fe63216a439d2e5238c79ddd46ede454df7b9d8c...      1       0  ...   \n",
       "1f9bcabc9d3173c1fe769899e4fac14b053037b953a1e4b...      1       0  ...   \n",
       "\n",
       "                                                    de_ramo-SIDERURGICA-METALURGIA  \\\n",
       "id                                                                                   \n",
       "a6984c3ae395090e3bee8ad63c3758b110de096d5d81958...                               0   \n",
       "6178f41ade1365e44bc2c46654c2c8c0eaae27dcb476c47...                               0   \n",
       "4a7e5069a397f12fdd7fd57111d6dc5d3ba558958efc02e...                               0   \n",
       "3348900fe63216a439d2e5238c79ddd46ede454df7b9d8c...                               0   \n",
       "1f9bcabc9d3173c1fe769899e4fac14b053037b953a1e4b...                               0   \n",
       "\n",
       "                                                    de_ramo-TELECOM  \\\n",
       "id                                                                    \n",
       "a6984c3ae395090e3bee8ad63c3758b110de096d5d81958...                0   \n",
       "6178f41ade1365e44bc2c46654c2c8c0eaae27dcb476c47...                0   \n",
       "4a7e5069a397f12fdd7fd57111d6dc5d3ba558958efc02e...                0   \n",
       "3348900fe63216a439d2e5238c79ddd46ede454df7b9d8c...                0   \n",
       "1f9bcabc9d3173c1fe769899e4fac14b053037b953a1e4b...                0   \n",
       "\n",
       "                                                    de_ramo-TEXTEIS  \\\n",
       "id                                                                    \n",
       "a6984c3ae395090e3bee8ad63c3758b110de096d5d81958...                0   \n",
       "6178f41ade1365e44bc2c46654c2c8c0eaae27dcb476c47...                0   \n",
       "4a7e5069a397f12fdd7fd57111d6dc5d3ba558958efc02e...                0   \n",
       "3348900fe63216a439d2e5238c79ddd46ede454df7b9d8c...                0   \n",
       "1f9bcabc9d3173c1fe769899e4fac14b053037b953a1e4b...                0   \n",
       "\n",
       "                                                    de_ramo-TRANSPORTE, ARMAZENAGEM E CORREIO  \\\n",
       "id                                                                                              \n",
       "a6984c3ae395090e3bee8ad63c3758b110de096d5d81958...                                          0   \n",
       "6178f41ade1365e44bc2c46654c2c8c0eaae27dcb476c47...                                          0   \n",
       "4a7e5069a397f12fdd7fd57111d6dc5d3ba558958efc02e...                                          1   \n",
       "3348900fe63216a439d2e5238c79ddd46ede454df7b9d8c...                                          0   \n",
       "1f9bcabc9d3173c1fe769899e4fac14b053037b953a1e4b...                                          0   \n",
       "\n",
       "                                                    setor-AGROPECUARIA  \\\n",
       "id                                                                       \n",
       "a6984c3ae395090e3bee8ad63c3758b110de096d5d81958...                   0   \n",
       "6178f41ade1365e44bc2c46654c2c8c0eaae27dcb476c47...                   0   \n",
       "4a7e5069a397f12fdd7fd57111d6dc5d3ba558958efc02e...                   0   \n",
       "3348900fe63216a439d2e5238c79ddd46ede454df7b9d8c...                   0   \n",
       "1f9bcabc9d3173c1fe769899e4fac14b053037b953a1e4b...                   0   \n",
       "\n",
       "                                                    setor-COMERCIO  \\\n",
       "id                                                                   \n",
       "a6984c3ae395090e3bee8ad63c3758b110de096d5d81958...               0   \n",
       "6178f41ade1365e44bc2c46654c2c8c0eaae27dcb476c47...               0   \n",
       "4a7e5069a397f12fdd7fd57111d6dc5d3ba558958efc02e...               0   \n",
       "3348900fe63216a439d2e5238c79ddd46ede454df7b9d8c...               0   \n",
       "1f9bcabc9d3173c1fe769899e4fac14b053037b953a1e4b...               0   \n",
       "\n",
       "                                                    setor-CONSTRUÇÃO CIVIL  \\\n",
       "id                                                                           \n",
       "a6984c3ae395090e3bee8ad63c3758b110de096d5d81958...                       1   \n",
       "6178f41ade1365e44bc2c46654c2c8c0eaae27dcb476c47...                       0   \n",
       "4a7e5069a397f12fdd7fd57111d6dc5d3ba558958efc02e...                       0   \n",
       "3348900fe63216a439d2e5238c79ddd46ede454df7b9d8c...                       0   \n",
       "1f9bcabc9d3173c1fe769899e4fac14b053037b953a1e4b...                       0   \n",
       "\n",
       "                                                    setor-INDUSTRIA  \\\n",
       "id                                                                    \n",
       "a6984c3ae395090e3bee8ad63c3758b110de096d5d81958...                0   \n",
       "6178f41ade1365e44bc2c46654c2c8c0eaae27dcb476c47...                0   \n",
       "4a7e5069a397f12fdd7fd57111d6dc5d3ba558958efc02e...                0   \n",
       "3348900fe63216a439d2e5238c79ddd46ede454df7b9d8c...                0   \n",
       "1f9bcabc9d3173c1fe769899e4fac14b053037b953a1e4b...                0   \n",
       "\n",
       "                                                    setor-OUTROS  \\\n",
       "id                                                                 \n",
       "a6984c3ae395090e3bee8ad63c3758b110de096d5d81958...             0   \n",
       "6178f41ade1365e44bc2c46654c2c8c0eaae27dcb476c47...             0   \n",
       "4a7e5069a397f12fdd7fd57111d6dc5d3ba558958efc02e...             0   \n",
       "3348900fe63216a439d2e5238c79ddd46ede454df7b9d8c...             0   \n",
       "1f9bcabc9d3173c1fe769899e4fac14b053037b953a1e4b...             0   \n",
       "\n",
       "                                                    setor-SERVIÇO  \n",
       "id                                                                 \n",
       "a6984c3ae395090e3bee8ad63c3758b110de096d5d81958...              0  \n",
       "6178f41ade1365e44bc2c46654c2c8c0eaae27dcb476c47...              1  \n",
       "4a7e5069a397f12fdd7fd57111d6dc5d3ba558958efc02e...              1  \n",
       "3348900fe63216a439d2e5238c79ddd46ede454df7b9d8c...              1  \n",
       "1f9bcabc9d3173c1fe769899e4fac14b053037b953a1e4b...              1  \n",
       "\n",
       "[5 rows x 64 columns]"
      ]
     },
     "execution_count": 9,
     "metadata": {},
     "output_type": "execute_result"
    }
   ],
   "source": [
    "df = pd.read_csv('data/estaticos_market_clean.csv', index_col='id')\n",
    "df.head()"
   ]
  },
  {
   "cell_type": "code",
   "execution_count": 10,
   "metadata": {
    "ExecuteTime": {
     "end_time": "2020-06-14T00:27:41.694869Z",
     "start_time": "2020-06-14T00:25:23.220017Z"
    },
    "scrolled": true
   },
   "outputs": [
    {
     "name": "stdout",
     "output_type": "stream",
     "text": [
      "1.20% do conjunto de teste já está presente no portfólio data/estaticos_portfolio1.csv.\n",
      "recall: 0.06% e f1-score: 0.11%.\n",
      "63.53% do conjunto de teste já está presente no portfólio data/estaticos_portfolio2.csv.\n",
      "recall: 11.09% e f1-score: 18.88%.\n",
      "63.75% do conjunto de teste já está presente no portfólio data/estaticos_portfolio3.csv.\n",
      "recall: 11.94% e f1-score: 20.12%.\n",
      "Quantidade de leads de cada portfólio: 3355 974 427\n"
     ]
    }
   ],
   "source": [
    "# curve max = 4, growth = 4, mean_importance = 10\n",
    "leads1_weighted = test_portfolio('data/estaticos_portfolio1.csv');\n",
    "leads2_weighted = test_portfolio('data/estaticos_portfolio2.csv');\n",
    "leads3_weighted = test_portfolio('data/estaticos_portfolio3.csv');\n",
    "\n",
    "print('Quantidade de leads de cada portfólio:', len(leads1_weighted), len(leads2_weighted), len(leads3_weighted))"
   ]
  },
  {
   "cell_type": "code",
   "execution_count": 11,
   "metadata": {
    "ExecuteTime": {
     "end_time": "2020-06-14T00:27:41.730979Z",
     "start_time": "2020-06-14T00:27:41.705522Z"
    }
   },
   "outputs": [],
   "source": [
    "def get_weights(var, mean, curve_maximum=2, growth_rate=0, mean_importance=0):\n",
    "        # This is adapted from the logistic function\n",
    "        # https://en.wikipedia.org/wiki/Logistic_function\n",
    "    return (curve_maximum * np.exp(mean_importance * mean)) / (1 + np.exp(-growth_rate * (1-var)))"
   ]
  },
  {
   "cell_type": "code",
   "execution_count": 12,
   "metadata": {
    "ExecuteTime": {
     "end_time": "2020-06-14T00:30:11.611031Z",
     "start_time": "2020-06-14T00:27:41.740175Z"
    }
   },
   "outputs": [
    {
     "name": "stdout",
     "output_type": "stream",
     "text": [
      "0.60% do conjunto de teste já está presente no portfólio data/estaticos_portfolio1.csv.\n",
      "recall: 0.03% e f1-score: 0.06%.\n",
      "52.35% do conjunto de teste já está presente no portfólio data/estaticos_portfolio2.csv.\n",
      "recall: 6.31% e f1-score: 11.26%.\n",
      "53.75% do conjunto de teste já está presente no portfólio data/estaticos_portfolio3.csv.\n",
      "recall: 9.47% e f1-score: 16.10%.\n",
      "Quantidade de leads de cada portfólio: 3332 1411 454\n"
     ]
    }
   ],
   "source": [
    "# curve max = 2, growth = 0, mean_importance = 0\n",
    "# equivalent to no weights\n",
    "leads1_notweighted = test_portfolio('data/estaticos_portfolio1.csv');\n",
    "leads2_notweighted = test_portfolio('data/estaticos_portfolio2.csv');\n",
    "leads3_notweighted = test_portfolio('data/estaticos_portfolio3.csv');\n",
    "\n",
    "print('Quantidade de leads de cada portfólio:', len(leads1_notweighted), len(leads2_notweighted), len(leads3_notweighted))"
   ]
  }
 ],
 "metadata": {
  "kernelspec": {
   "display_name": "Python 3",
   "language": "python",
   "name": "python3"
  },
  "language_info": {
   "codemirror_mode": {
    "name": "ipython",
    "version": 3
   },
   "file_extension": ".py",
   "mimetype": "text/x-python",
   "name": "python",
   "nbconvert_exporter": "python",
   "pygments_lexer": "ipython3",
   "version": "3.8.2"
  },
  "varInspector": {
   "cols": {
    "lenName": 16,
    "lenType": 16,
    "lenVar": 40
   },
   "kernels_config": {
    "python": {
     "delete_cmd_postfix": "",
     "delete_cmd_prefix": "del ",
     "library": "var_list.py",
     "varRefreshCmd": "print(var_dic_list())"
    },
    "r": {
     "delete_cmd_postfix": ") ",
     "delete_cmd_prefix": "rm(",
     "library": "var_list.r",
     "varRefreshCmd": "cat(var_dic_list()) "
    }
   },
   "position": {
    "height": "174.38px",
    "left": "1449.35px",
    "right": "20px",
    "top": "120.994px",
    "width": "349.967px"
   },
   "types_to_exclude": [
    "module",
    "function",
    "builtin_function_or_method",
    "instance",
    "_Feature"
   ],
   "window_display": false
  }
 },
 "nbformat": 4,
 "nbformat_minor": 4
}
